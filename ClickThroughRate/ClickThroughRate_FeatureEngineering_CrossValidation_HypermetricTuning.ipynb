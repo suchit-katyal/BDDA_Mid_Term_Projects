{
 "cells": [
  {
   "cell_type": "code",
   "execution_count": 1,
   "id": "2f812649",
   "metadata": {},
   "outputs": [],
   "source": [
    "# 1.0 Reset memory\n",
    "#%reset -f\n",
    "# 1.1 Call libraries\n",
    "\n",
    "## A. Data manipulation\n",
    "import numpy as np\n",
    "import pandas as pd\n",
    "\n",
    "# 1.2 for data splitting\n",
    "from sklearn.model_selection import train_test_split\n",
    "\n",
    "## B. Transformers for predictors:\n",
    "\n",
    "# 1.3 Class for imputing missing values\n",
    "# https://scikit-learn.org/stable/modules/generated/sklearn.impute.SimpleImputer.html\n",
    "from sklearn.impute import SimpleImputer\n",
    "\n",
    "# 1.4 One hot encode categorical data--Convert to dummy\n",
    "# https://scikit-learn.org/stable/modules/generated/sklearn.preprocessing.OneHotEncoder.html\n",
    "from sklearn.preprocessing import OneHotEncoder \n",
    "\n",
    "# 1.5 Scale numeric data\n",
    "from sklearn.preprocessing import StandardScaler\n",
    "\n",
    "## C. Transformer for target:\n",
    "\n",
    "# 1.6 Label encode target column\n",
    "from sklearn.preprocessing import LabelEncoder\n",
    "\n",
    "## D. Composite Transformers:\n",
    "\n",
    "# 1.7 Class for applying multiple data transformation\n",
    "#     jobs parallely\n",
    "from sklearn.compose import ColumnTransformer\n",
    "\n",
    "# 1.8 Pipeline class: Class for applying multiple\n",
    "#     data transformations sequentially\n",
    "from sklearn.pipeline import Pipeline\n",
    "\n",
    "## E. Estimator\n",
    "\n",
    "# 1.9 Estimator\n",
    "# Ref: https://scikit-learn.org/stable/modules/generated/sklearn.tree.DecisionTreeClassifier.html\n",
    "# User guide: https://scikit-learn.org/stable/modules/tree.html\n",
    "from sklearn.tree import DecisionTreeClassifier \n",
    "\n",
    "# 1.10 To plot graphs and pipeline diagram\n",
    "import matplotlib.pyplot as plt\n",
    "import plotly.express as px\n",
    "import seaborn as sns\n",
    "from sklearn import set_config"
   ]
  },
  {
   "cell_type": "code",
   "execution_count": 2,
   "id": "d23b114a",
   "metadata": {},
   "outputs": [],
   "source": [
    "# 2.0 Import warnings module\n",
    "#     No FutureWarnings display\n",
    " \n",
    "import warnings\n",
    "# 2.1 Do not print warnings on screen\n",
    "warnings.filterwarnings(\"ignore\")"
   ]
  },
  {
   "cell_type": "code",
   "execution_count": 3,
   "id": "86222f59",
   "metadata": {},
   "outputs": [],
   "source": [
    "abc = pd.read_csv(\"C:\\\\Users\\\\arpit\\\\Downloads\\\\sample.csv\")"
   ]
  },
  {
   "cell_type": "code",
   "execution_count": 4,
   "id": "7090da09",
   "metadata": {},
   "outputs": [
    {
     "name": "stdout",
     "output_type": "stream",
     "text": [
      "Dataframe shape: (100, 24)\n"
     ]
    }
   ],
   "source": [
    "df = abc.sample(100)\n",
    "# print the shape of the dataframe\n",
    "\n",
    "print(\"Dataframe shape:\", df.shape)"
   ]
  },
  {
   "cell_type": "code",
   "execution_count": 5,
   "id": "b78b3156",
   "metadata": {},
   "outputs": [
    {
     "data": {
      "text/html": [
       "<div>\n",
       "<style scoped>\n",
       "    .dataframe tbody tr th:only-of-type {\n",
       "        vertical-align: middle;\n",
       "    }\n",
       "\n",
       "    .dataframe tbody tr th {\n",
       "        vertical-align: top;\n",
       "    }\n",
       "\n",
       "    .dataframe thead th {\n",
       "        text-align: right;\n",
       "    }\n",
       "</style>\n",
       "<table border=\"1\" class=\"dataframe\">\n",
       "  <thead>\n",
       "    <tr style=\"text-align: right;\">\n",
       "      <th></th>\n",
       "      <th>id</th>\n",
       "      <th>click</th>\n",
       "      <th>hour</th>\n",
       "      <th>C1</th>\n",
       "      <th>banner_pos</th>\n",
       "      <th>site_id</th>\n",
       "      <th>site_domain</th>\n",
       "      <th>site_category</th>\n",
       "      <th>app_id</th>\n",
       "      <th>app_domain</th>\n",
       "      <th>...</th>\n",
       "      <th>device_type</th>\n",
       "      <th>device_conn_type</th>\n",
       "      <th>C14</th>\n",
       "      <th>C15</th>\n",
       "      <th>C16</th>\n",
       "      <th>C17</th>\n",
       "      <th>C18</th>\n",
       "      <th>C19</th>\n",
       "      <th>C20</th>\n",
       "      <th>C21</th>\n",
       "    </tr>\n",
       "  </thead>\n",
       "  <tbody>\n",
       "    <tr>\n",
       "      <th>4063</th>\n",
       "      <td>6.585440e+18</td>\n",
       "      <td>0</td>\n",
       "      <td>14102104</td>\n",
       "      <td>1005</td>\n",
       "      <td>0</td>\n",
       "      <td>85f751fd</td>\n",
       "      <td>c4e18dd6</td>\n",
       "      <td>50e219e0</td>\n",
       "      <td>e7cf2855</td>\n",
       "      <td>ae637522</td>\n",
       "      <td>...</td>\n",
       "      <td>1</td>\n",
       "      <td>2</td>\n",
       "      <td>21234</td>\n",
       "      <td>320</td>\n",
       "      <td>50</td>\n",
       "      <td>2434</td>\n",
       "      <td>3</td>\n",
       "      <td>163</td>\n",
       "      <td>100088</td>\n",
       "      <td>61</td>\n",
       "    </tr>\n",
       "    <tr>\n",
       "      <th>986</th>\n",
       "      <td>1.459000e+19</td>\n",
       "      <td>1</td>\n",
       "      <td>14102100</td>\n",
       "      <td>1005</td>\n",
       "      <td>0</td>\n",
       "      <td>1fbe01fe</td>\n",
       "      <td>f3845767</td>\n",
       "      <td>28905ebd</td>\n",
       "      <td>ecad2386</td>\n",
       "      <td>7801e8d9</td>\n",
       "      <td>...</td>\n",
       "      <td>1</td>\n",
       "      <td>0</td>\n",
       "      <td>15703</td>\n",
       "      <td>320</td>\n",
       "      <td>50</td>\n",
       "      <td>1722</td>\n",
       "      <td>0</td>\n",
       "      <td>35</td>\n",
       "      <td>-1</td>\n",
       "      <td>79</td>\n",
       "    </tr>\n",
       "    <tr>\n",
       "      <th>1183</th>\n",
       "      <td>1.119520e+19</td>\n",
       "      <td>0</td>\n",
       "      <td>14102104</td>\n",
       "      <td>1010</td>\n",
       "      <td>1</td>\n",
       "      <td>85f751fd</td>\n",
       "      <td>c4e18dd6</td>\n",
       "      <td>50e219e0</td>\n",
       "      <td>19e6e972</td>\n",
       "      <td>7801e8d9</td>\n",
       "      <td>...</td>\n",
       "      <td>4</td>\n",
       "      <td>3</td>\n",
       "      <td>21154</td>\n",
       "      <td>320</td>\n",
       "      <td>50</td>\n",
       "      <td>2420</td>\n",
       "      <td>2</td>\n",
       "      <td>35</td>\n",
       "      <td>-1</td>\n",
       "      <td>69</td>\n",
       "    </tr>\n",
       "    <tr>\n",
       "      <th>3979</th>\n",
       "      <td>1.651150e+19</td>\n",
       "      <td>0</td>\n",
       "      <td>14102103</td>\n",
       "      <td>1005</td>\n",
       "      <td>0</td>\n",
       "      <td>85f751fd</td>\n",
       "      <td>c4e18dd6</td>\n",
       "      <td>50e219e0</td>\n",
       "      <td>98fed791</td>\n",
       "      <td>d9b5648e</td>\n",
       "      <td>...</td>\n",
       "      <td>1</td>\n",
       "      <td>0</td>\n",
       "      <td>21611</td>\n",
       "      <td>320</td>\n",
       "      <td>50</td>\n",
       "      <td>2480</td>\n",
       "      <td>3</td>\n",
       "      <td>299</td>\n",
       "      <td>100111</td>\n",
       "      <td>61</td>\n",
       "    </tr>\n",
       "    <tr>\n",
       "      <th>3454</th>\n",
       "      <td>4.791790e+18</td>\n",
       "      <td>0</td>\n",
       "      <td>14102103</td>\n",
       "      <td>1005</td>\n",
       "      <td>0</td>\n",
       "      <td>85f751fd</td>\n",
       "      <td>c4e18dd6</td>\n",
       "      <td>50e219e0</td>\n",
       "      <td>51cedd4e</td>\n",
       "      <td>aefc06bd</td>\n",
       "      <td>...</td>\n",
       "      <td>1</td>\n",
       "      <td>0</td>\n",
       "      <td>19743</td>\n",
       "      <td>320</td>\n",
       "      <td>50</td>\n",
       "      <td>2264</td>\n",
       "      <td>3</td>\n",
       "      <td>427</td>\n",
       "      <td>100000</td>\n",
       "      <td>61</td>\n",
       "    </tr>\n",
       "  </tbody>\n",
       "</table>\n",
       "<p>5 rows × 24 columns</p>\n",
       "</div>"
      ],
      "text/plain": [
       "                id  click      hour    C1  banner_pos   site_id site_domain  \\\n",
       "4063  6.585440e+18      0  14102104  1005           0  85f751fd    c4e18dd6   \n",
       "986   1.459000e+19      1  14102100  1005           0  1fbe01fe    f3845767   \n",
       "1183  1.119520e+19      0  14102104  1010           1  85f751fd    c4e18dd6   \n",
       "3979  1.651150e+19      0  14102103  1005           0  85f751fd    c4e18dd6   \n",
       "3454  4.791790e+18      0  14102103  1005           0  85f751fd    c4e18dd6   \n",
       "\n",
       "     site_category    app_id app_domain  ... device_type device_conn_type  \\\n",
       "4063      50e219e0  e7cf2855   ae637522  ...           1                2   \n",
       "986       28905ebd  ecad2386   7801e8d9  ...           1                0   \n",
       "1183      50e219e0  19e6e972   7801e8d9  ...           4                3   \n",
       "3979      50e219e0  98fed791   d9b5648e  ...           1                0   \n",
       "3454      50e219e0  51cedd4e   aefc06bd  ...           1                0   \n",
       "\n",
       "        C14  C15  C16   C17  C18  C19     C20  C21  \n",
       "4063  21234  320   50  2434    3  163  100088   61  \n",
       "986   15703  320   50  1722    0   35      -1   79  \n",
       "1183  21154  320   50  2420    2   35      -1   69  \n",
       "3979  21611  320   50  2480    3  299  100111   61  \n",
       "3454  19743  320   50  2264    3  427  100000   61  \n",
       "\n",
       "[5 rows x 24 columns]"
      ]
     },
     "execution_count": 5,
     "metadata": {},
     "output_type": "execute_result"
    }
   ],
   "source": [
    "df.head()"
   ]
  },
  {
   "cell_type": "code",
   "execution_count": 6,
   "id": "0e2a9222",
   "metadata": {},
   "outputs": [
    {
     "name": "stdout",
     "output_type": "stream",
     "text": [
      "<class 'pandas.core.frame.DataFrame'>\n",
      "Int64Index: 100 entries, 4063 to 1612\n",
      "Data columns (total 24 columns):\n",
      " #   Column            Non-Null Count  Dtype  \n",
      "---  ------            --------------  -----  \n",
      " 0   id                100 non-null    float64\n",
      " 1   click             100 non-null    int64  \n",
      " 2   hour              100 non-null    int64  \n",
      " 3   C1                100 non-null    int64  \n",
      " 4   banner_pos        100 non-null    int64  \n",
      " 5   site_id           100 non-null    object \n",
      " 6   site_domain       100 non-null    object \n",
      " 7   site_category     100 non-null    object \n",
      " 8   app_id            100 non-null    object \n",
      " 9   app_domain        100 non-null    object \n",
      " 10  app_category      100 non-null    object \n",
      " 11  device_id         100 non-null    object \n",
      " 12  device_ip         100 non-null    object \n",
      " 13  device_model      100 non-null    object \n",
      " 14  device_type       100 non-null    int64  \n",
      " 15  device_conn_type  100 non-null    int64  \n",
      " 16  C14               100 non-null    int64  \n",
      " 17  C15               100 non-null    int64  \n",
      " 18  C16               100 non-null    int64  \n",
      " 19  C17               100 non-null    int64  \n",
      " 20  C18               100 non-null    int64  \n",
      " 21  C19               100 non-null    int64  \n",
      " 22  C20               100 non-null    int64  \n",
      " 23  C21               100 non-null    int64  \n",
      "dtypes: float64(1), int64(14), object(9)\n",
      "memory usage: 19.5+ KB\n"
     ]
    }
   ],
   "source": [
    "df.info()"
   ]
  },
  {
   "cell_type": "code",
   "execution_count": 7,
   "id": "f6efb19b",
   "metadata": {},
   "outputs": [],
   "source": [
    "def count_unique(d, columns):\n",
    "    for column in columns:\n",
    "        print(\"Number of Unique values in column {} is {}\".format(column, str(len(d[column].unique()))))"
   ]
  },
  {
   "cell_type": "code",
   "execution_count": 8,
   "id": "47b555b0",
   "metadata": {},
   "outputs": [
    {
     "name": "stdout",
     "output_type": "stream",
     "text": [
      "Number of Unique values in column id is 100\n",
      "Number of Unique values in column click is 2\n",
      "Number of Unique values in column hour is 6\n",
      "Number of Unique values in column C1 is 5\n",
      "Number of Unique values in column banner_pos is 4\n",
      "Number of Unique values in column site_id is 27\n",
      "Number of Unique values in column site_domain is 23\n",
      "Number of Unique values in column site_category is 5\n",
      "Number of Unique values in column app_id is 31\n",
      "Number of Unique values in column app_domain is 7\n",
      "Number of Unique values in column app_category is 5\n",
      "Number of Unique values in column device_id is 22\n",
      "Number of Unique values in column device_ip is 99\n",
      "Number of Unique values in column device_model is 69\n",
      "Number of Unique values in column device_type is 3\n",
      "Number of Unique values in column device_conn_type is 3\n",
      "Number of Unique values in column C14 is 46\n",
      "Number of Unique values in column C15 is 2\n",
      "Number of Unique values in column C16 is 3\n",
      "Number of Unique values in column C17 is 30\n",
      "Number of Unique values in column C18 is 4\n",
      "Number of Unique values in column C19 is 15\n",
      "Number of Unique values in column C20 is 21\n",
      "Number of Unique values in column C21 is 15\n"
     ]
    }
   ],
   "source": [
    "columns = list(df.columns)\n",
    "count_unique(df, columns)"
   ]
  },
  {
   "cell_type": "markdown",
   "id": "de07d0db",
   "metadata": {},
   "source": [
    "# Feature engineering"
   ]
  },
  {
   "cell_type": "code",
   "execution_count": 9,
   "id": "6292e59c",
   "metadata": {},
   "outputs": [
    {
     "name": "stdout",
     "output_type": "stream",
     "text": [
      "0\n"
     ]
    }
   ],
   "source": [
    "print(df.isnull().sum().sum())"
   ]
  },
  {
   "cell_type": "code",
   "execution_count": 10,
   "id": "179c37d5",
   "metadata": {},
   "outputs": [],
   "source": [
    "#Drop the ID Column\n",
    "df.drop('id',axis=1,inplace = True)"
   ]
  },
  {
   "cell_type": "code",
   "execution_count": 11,
   "id": "fea4c6c7",
   "metadata": {},
   "outputs": [
    {
     "data": {
      "text/html": [
       "<div>\n",
       "<style scoped>\n",
       "    .dataframe tbody tr th:only-of-type {\n",
       "        vertical-align: middle;\n",
       "    }\n",
       "\n",
       "    .dataframe tbody tr th {\n",
       "        vertical-align: top;\n",
       "    }\n",
       "\n",
       "    .dataframe thead th {\n",
       "        text-align: right;\n",
       "    }\n",
       "</style>\n",
       "<table border=\"1\" class=\"dataframe\">\n",
       "  <thead>\n",
       "    <tr style=\"text-align: right;\">\n",
       "      <th></th>\n",
       "      <th>click</th>\n",
       "      <th>hour</th>\n",
       "      <th>C1</th>\n",
       "      <th>banner_pos</th>\n",
       "      <th>device_type</th>\n",
       "      <th>device_conn_type</th>\n",
       "      <th>C14</th>\n",
       "      <th>C15</th>\n",
       "      <th>C16</th>\n",
       "      <th>C17</th>\n",
       "      <th>C18</th>\n",
       "      <th>C19</th>\n",
       "      <th>C20</th>\n",
       "      <th>C21</th>\n",
       "    </tr>\n",
       "  </thead>\n",
       "  <tbody>\n",
       "    <tr>\n",
       "      <th>click</th>\n",
       "      <td>1.000000</td>\n",
       "      <td>0.063245</td>\n",
       "      <td>-0.185010</td>\n",
       "      <td>-0.017376</td>\n",
       "      <td>-0.147674</td>\n",
       "      <td>-0.092378</td>\n",
       "      <td>0.012751</td>\n",
       "      <td>-0.043473</td>\n",
       "      <td>-0.004219</td>\n",
       "      <td>-0.061326</td>\n",
       "      <td>0.030426</td>\n",
       "      <td>0.278957</td>\n",
       "      <td>0.037157</td>\n",
       "      <td>-0.144363</td>\n",
       "    </tr>\n",
       "    <tr>\n",
       "      <th>hour</th>\n",
       "      <td>0.063245</td>\n",
       "      <td>1.000000</td>\n",
       "      <td>0.056247</td>\n",
       "      <td>-0.007531</td>\n",
       "      <td>-0.018373</td>\n",
       "      <td>0.065333</td>\n",
       "      <td>0.033434</td>\n",
       "      <td>0.034031</td>\n",
       "      <td>-0.061716</td>\n",
       "      <td>0.069714</td>\n",
       "      <td>0.277767</td>\n",
       "      <td>0.099415</td>\n",
       "      <td>0.016618</td>\n",
       "      <td>-0.259147</td>\n",
       "    </tr>\n",
       "    <tr>\n",
       "      <th>C1</th>\n",
       "      <td>-0.185010</td>\n",
       "      <td>0.056247</td>\n",
       "      <td>1.000000</td>\n",
       "      <td>0.490912</td>\n",
       "      <td>0.776438</td>\n",
       "      <td>0.263525</td>\n",
       "      <td>0.147020</td>\n",
       "      <td>0.026029</td>\n",
       "      <td>0.271071</td>\n",
       "      <td>0.229435</td>\n",
       "      <td>0.088247</td>\n",
       "      <td>0.028393</td>\n",
       "      <td>-0.014237</td>\n",
       "      <td>0.217969</td>\n",
       "    </tr>\n",
       "    <tr>\n",
       "      <th>banner_pos</th>\n",
       "      <td>-0.017376</td>\n",
       "      <td>-0.007531</td>\n",
       "      <td>0.490912</td>\n",
       "      <td>1.000000</td>\n",
       "      <td>0.515721</td>\n",
       "      <td>-0.033942</td>\n",
       "      <td>0.158467</td>\n",
       "      <td>0.060971</td>\n",
       "      <td>0.515882</td>\n",
       "      <td>0.157325</td>\n",
       "      <td>-0.026765</td>\n",
       "      <td>0.171259</td>\n",
       "      <td>0.053311</td>\n",
       "      <td>0.290908</td>\n",
       "    </tr>\n",
       "    <tr>\n",
       "      <th>device_type</th>\n",
       "      <td>-0.147674</td>\n",
       "      <td>-0.018373</td>\n",
       "      <td>0.776438</td>\n",
       "      <td>0.515721</td>\n",
       "      <td>1.000000</td>\n",
       "      <td>0.181615</td>\n",
       "      <td>0.118120</td>\n",
       "      <td>0.022496</td>\n",
       "      <td>0.389009</td>\n",
       "      <td>0.181633</td>\n",
       "      <td>0.009815</td>\n",
       "      <td>-0.009593</td>\n",
       "      <td>-0.095824</td>\n",
       "      <td>0.296138</td>\n",
       "    </tr>\n",
       "    <tr>\n",
       "      <th>device_conn_type</th>\n",
       "      <td>-0.092378</td>\n",
       "      <td>0.065333</td>\n",
       "      <td>0.263525</td>\n",
       "      <td>-0.033942</td>\n",
       "      <td>0.181615</td>\n",
       "      <td>1.000000</td>\n",
       "      <td>-0.009138</td>\n",
       "      <td>0.073840</td>\n",
       "      <td>-0.077481</td>\n",
       "      <td>0.008054</td>\n",
       "      <td>0.067017</td>\n",
       "      <td>0.048693</td>\n",
       "      <td>-0.097700</td>\n",
       "      <td>-0.008798</td>\n",
       "    </tr>\n",
       "    <tr>\n",
       "      <th>C14</th>\n",
       "      <td>0.012751</td>\n",
       "      <td>0.033434</td>\n",
       "      <td>0.147020</td>\n",
       "      <td>0.158467</td>\n",
       "      <td>0.118120</td>\n",
       "      <td>-0.009138</td>\n",
       "      <td>1.000000</td>\n",
       "      <td>-0.010402</td>\n",
       "      <td>0.069175</td>\n",
       "      <td>0.930281</td>\n",
       "      <td>0.337500</td>\n",
       "      <td>0.202526</td>\n",
       "      <td>0.166455</td>\n",
       "      <td>0.058861</td>\n",
       "    </tr>\n",
       "    <tr>\n",
       "      <th>C15</th>\n",
       "      <td>-0.043473</td>\n",
       "      <td>0.034031</td>\n",
       "      <td>0.026029</td>\n",
       "      <td>0.060971</td>\n",
       "      <td>0.022496</td>\n",
       "      <td>0.073840</td>\n",
       "      <td>-0.010402</td>\n",
       "      <td>1.000000</td>\n",
       "      <td>-0.667194</td>\n",
       "      <td>-0.022067</td>\n",
       "      <td>-0.093924</td>\n",
       "      <td>0.124666</td>\n",
       "      <td>-0.028990</td>\n",
       "      <td>0.194630</td>\n",
       "    </tr>\n",
       "    <tr>\n",
       "      <th>C16</th>\n",
       "      <td>-0.004219</td>\n",
       "      <td>-0.061716</td>\n",
       "      <td>0.271071</td>\n",
       "      <td>0.515882</td>\n",
       "      <td>0.389009</td>\n",
       "      <td>-0.077481</td>\n",
       "      <td>0.069175</td>\n",
       "      <td>-0.667194</td>\n",
       "      <td>1.000000</td>\n",
       "      <td>0.076418</td>\n",
       "      <td>-0.012588</td>\n",
       "      <td>-0.026964</td>\n",
       "      <td>0.105899</td>\n",
       "      <td>0.123707</td>\n",
       "    </tr>\n",
       "    <tr>\n",
       "      <th>C17</th>\n",
       "      <td>-0.061326</td>\n",
       "      <td>0.069714</td>\n",
       "      <td>0.229435</td>\n",
       "      <td>0.157325</td>\n",
       "      <td>0.181633</td>\n",
       "      <td>0.008054</td>\n",
       "      <td>0.930281</td>\n",
       "      <td>-0.022067</td>\n",
       "      <td>0.076418</td>\n",
       "      <td>1.000000</td>\n",
       "      <td>0.311161</td>\n",
       "      <td>0.228425</td>\n",
       "      <td>0.119424</td>\n",
       "      <td>0.062415</td>\n",
       "    </tr>\n",
       "    <tr>\n",
       "      <th>C18</th>\n",
       "      <td>0.030426</td>\n",
       "      <td>0.277767</td>\n",
       "      <td>0.088247</td>\n",
       "      <td>-0.026765</td>\n",
       "      <td>0.009815</td>\n",
       "      <td>0.067017</td>\n",
       "      <td>0.337500</td>\n",
       "      <td>-0.093924</td>\n",
       "      <td>-0.012588</td>\n",
       "      <td>0.311161</td>\n",
       "      <td>1.000000</td>\n",
       "      <td>-0.020580</td>\n",
       "      <td>0.084984</td>\n",
       "      <td>-0.547175</td>\n",
       "    </tr>\n",
       "    <tr>\n",
       "      <th>C19</th>\n",
       "      <td>0.278957</td>\n",
       "      <td>0.099415</td>\n",
       "      <td>0.028393</td>\n",
       "      <td>0.171259</td>\n",
       "      <td>-0.009593</td>\n",
       "      <td>0.048693</td>\n",
       "      <td>0.202526</td>\n",
       "      <td>0.124666</td>\n",
       "      <td>-0.026964</td>\n",
       "      <td>0.228425</td>\n",
       "      <td>-0.020580</td>\n",
       "      <td>1.000000</td>\n",
       "      <td>0.152448</td>\n",
       "      <td>-0.223137</td>\n",
       "    </tr>\n",
       "    <tr>\n",
       "      <th>C20</th>\n",
       "      <td>0.037157</td>\n",
       "      <td>0.016618</td>\n",
       "      <td>-0.014237</td>\n",
       "      <td>0.053311</td>\n",
       "      <td>-0.095824</td>\n",
       "      <td>-0.097700</td>\n",
       "      <td>0.166455</td>\n",
       "      <td>-0.028990</td>\n",
       "      <td>0.105899</td>\n",
       "      <td>0.119424</td>\n",
       "      <td>0.084984</td>\n",
       "      <td>0.152448</td>\n",
       "      <td>1.000000</td>\n",
       "      <td>-0.038651</td>\n",
       "    </tr>\n",
       "    <tr>\n",
       "      <th>C21</th>\n",
       "      <td>-0.144363</td>\n",
       "      <td>-0.259147</td>\n",
       "      <td>0.217969</td>\n",
       "      <td>0.290908</td>\n",
       "      <td>0.296138</td>\n",
       "      <td>-0.008798</td>\n",
       "      <td>0.058861</td>\n",
       "      <td>0.194630</td>\n",
       "      <td>0.123707</td>\n",
       "      <td>0.062415</td>\n",
       "      <td>-0.547175</td>\n",
       "      <td>-0.223137</td>\n",
       "      <td>-0.038651</td>\n",
       "      <td>1.000000</td>\n",
       "    </tr>\n",
       "  </tbody>\n",
       "</table>\n",
       "</div>"
      ],
      "text/plain": [
       "                     click      hour        C1  banner_pos  device_type  \\\n",
       "click             1.000000  0.063245 -0.185010   -0.017376    -0.147674   \n",
       "hour              0.063245  1.000000  0.056247   -0.007531    -0.018373   \n",
       "C1               -0.185010  0.056247  1.000000    0.490912     0.776438   \n",
       "banner_pos       -0.017376 -0.007531  0.490912    1.000000     0.515721   \n",
       "device_type      -0.147674 -0.018373  0.776438    0.515721     1.000000   \n",
       "device_conn_type -0.092378  0.065333  0.263525   -0.033942     0.181615   \n",
       "C14               0.012751  0.033434  0.147020    0.158467     0.118120   \n",
       "C15              -0.043473  0.034031  0.026029    0.060971     0.022496   \n",
       "C16              -0.004219 -0.061716  0.271071    0.515882     0.389009   \n",
       "C17              -0.061326  0.069714  0.229435    0.157325     0.181633   \n",
       "C18               0.030426  0.277767  0.088247   -0.026765     0.009815   \n",
       "C19               0.278957  0.099415  0.028393    0.171259    -0.009593   \n",
       "C20               0.037157  0.016618 -0.014237    0.053311    -0.095824   \n",
       "C21              -0.144363 -0.259147  0.217969    0.290908     0.296138   \n",
       "\n",
       "                  device_conn_type       C14       C15       C16       C17  \\\n",
       "click                    -0.092378  0.012751 -0.043473 -0.004219 -0.061326   \n",
       "hour                      0.065333  0.033434  0.034031 -0.061716  0.069714   \n",
       "C1                        0.263525  0.147020  0.026029  0.271071  0.229435   \n",
       "banner_pos               -0.033942  0.158467  0.060971  0.515882  0.157325   \n",
       "device_type               0.181615  0.118120  0.022496  0.389009  0.181633   \n",
       "device_conn_type          1.000000 -0.009138  0.073840 -0.077481  0.008054   \n",
       "C14                      -0.009138  1.000000 -0.010402  0.069175  0.930281   \n",
       "C15                       0.073840 -0.010402  1.000000 -0.667194 -0.022067   \n",
       "C16                      -0.077481  0.069175 -0.667194  1.000000  0.076418   \n",
       "C17                       0.008054  0.930281 -0.022067  0.076418  1.000000   \n",
       "C18                       0.067017  0.337500 -0.093924 -0.012588  0.311161   \n",
       "C19                       0.048693  0.202526  0.124666 -0.026964  0.228425   \n",
       "C20                      -0.097700  0.166455 -0.028990  0.105899  0.119424   \n",
       "C21                      -0.008798  0.058861  0.194630  0.123707  0.062415   \n",
       "\n",
       "                       C18       C19       C20       C21  \n",
       "click             0.030426  0.278957  0.037157 -0.144363  \n",
       "hour              0.277767  0.099415  0.016618 -0.259147  \n",
       "C1                0.088247  0.028393 -0.014237  0.217969  \n",
       "banner_pos       -0.026765  0.171259  0.053311  0.290908  \n",
       "device_type       0.009815 -0.009593 -0.095824  0.296138  \n",
       "device_conn_type  0.067017  0.048693 -0.097700 -0.008798  \n",
       "C14               0.337500  0.202526  0.166455  0.058861  \n",
       "C15              -0.093924  0.124666 -0.028990  0.194630  \n",
       "C16              -0.012588 -0.026964  0.105899  0.123707  \n",
       "C17               0.311161  0.228425  0.119424  0.062415  \n",
       "C18               1.000000 -0.020580  0.084984 -0.547175  \n",
       "C19              -0.020580  1.000000  0.152448 -0.223137  \n",
       "C20               0.084984  0.152448  1.000000 -0.038651  \n",
       "C21              -0.547175 -0.223137 -0.038651  1.000000  "
      ]
     },
     "execution_count": 11,
     "metadata": {},
     "output_type": "execute_result"
    }
   ],
   "source": [
    "# Finding Correlation,\n",
    "corrMatrix=df.corr()\n",
    "corrMatrix"
   ]
  },
  {
   "cell_type": "code",
   "execution_count": 12,
   "id": "9572bea0",
   "metadata": {},
   "outputs": [
    {
     "data": {
      "image/png": "[encoded data removed]",
      "text/plain": [
       "<Figure size 720x504 with 2 Axes>"
      ]
     },
     "metadata": {
      "needs_background": "light"
     },
     "output_type": "display_data"
    }
   ],
   "source": [
    "plt.figure(figsize=(10,7))\n",
    "sns.heatmap(corrMatrix, annot=True)\n",
    "plt.show()"
   ]
  },
  {
   "cell_type": "markdown",
   "id": "ad97fdfc",
   "metadata": {},
   "source": [
    "Drop irrelevent columns\n"
   ]
  },
  {
   "cell_type": "code",
   "execution_count": 13,
   "id": "2c4869ba",
   "metadata": {},
   "outputs": [],
   "source": [
    "df.drop('device_id',axis=1,inplace = True)\n",
    "df.drop('device_ip',axis=1,inplace = True)\n",
    "df.drop('hour',axis=1,inplace = True)"
   ]
  },
  {
   "cell_type": "code",
   "execution_count": 14,
   "id": "0570107f",
   "metadata": {},
   "outputs": [
    {
     "data": {
      "text/html": [
       "<div>\n",
       "<style scoped>\n",
       "    .dataframe tbody tr th:only-of-type {\n",
       "        vertical-align: middle;\n",
       "    }\n",
       "\n",
       "    .dataframe tbody tr th {\n",
       "        vertical-align: top;\n",
       "    }\n",
       "\n",
       "    .dataframe thead th {\n",
       "        text-align: right;\n",
       "    }\n",
       "</style>\n",
       "<table border=\"1\" class=\"dataframe\">\n",
       "  <thead>\n",
       "    <tr style=\"text-align: right;\">\n",
       "      <th></th>\n",
       "      <th>click</th>\n",
       "      <th>C1</th>\n",
       "      <th>banner_pos</th>\n",
       "      <th>site_id</th>\n",
       "      <th>site_domain</th>\n",
       "      <th>site_category</th>\n",
       "      <th>app_id</th>\n",
       "      <th>app_domain</th>\n",
       "      <th>app_category</th>\n",
       "      <th>device_model</th>\n",
       "      <th>device_type</th>\n",
       "      <th>device_conn_type</th>\n",
       "      <th>C14</th>\n",
       "      <th>C15</th>\n",
       "      <th>C16</th>\n",
       "      <th>C17</th>\n",
       "      <th>C18</th>\n",
       "      <th>C19</th>\n",
       "      <th>C20</th>\n",
       "      <th>C21</th>\n",
       "    </tr>\n",
       "  </thead>\n",
       "  <tbody>\n",
       "    <tr>\n",
       "      <th>4063</th>\n",
       "      <td>0</td>\n",
       "      <td>1005</td>\n",
       "      <td>0</td>\n",
       "      <td>85f751fd</td>\n",
       "      <td>c4e18dd6</td>\n",
       "      <td>50e219e0</td>\n",
       "      <td>e7cf2855</td>\n",
       "      <td>ae637522</td>\n",
       "      <td>0f2161f8</td>\n",
       "      <td>c517f57b</td>\n",
       "      <td>1</td>\n",
       "      <td>2</td>\n",
       "      <td>21234</td>\n",
       "      <td>320</td>\n",
       "      <td>50</td>\n",
       "      <td>2434</td>\n",
       "      <td>3</td>\n",
       "      <td>163</td>\n",
       "      <td>100088</td>\n",
       "      <td>61</td>\n",
       "    </tr>\n",
       "    <tr>\n",
       "      <th>986</th>\n",
       "      <td>1</td>\n",
       "      <td>1005</td>\n",
       "      <td>0</td>\n",
       "      <td>1fbe01fe</td>\n",
       "      <td>f3845767</td>\n",
       "      <td>28905ebd</td>\n",
       "      <td>ecad2386</td>\n",
       "      <td>7801e8d9</td>\n",
       "      <td>07d7df22</td>\n",
       "      <td>1ccc7835</td>\n",
       "      <td>1</td>\n",
       "      <td>0</td>\n",
       "      <td>15703</td>\n",
       "      <td>320</td>\n",
       "      <td>50</td>\n",
       "      <td>1722</td>\n",
       "      <td>0</td>\n",
       "      <td>35</td>\n",
       "      <td>-1</td>\n",
       "      <td>79</td>\n",
       "    </tr>\n",
       "    <tr>\n",
       "      <th>1183</th>\n",
       "      <td>0</td>\n",
       "      <td>1010</td>\n",
       "      <td>1</td>\n",
       "      <td>85f751fd</td>\n",
       "      <td>c4e18dd6</td>\n",
       "      <td>50e219e0</td>\n",
       "      <td>19e6e972</td>\n",
       "      <td>7801e8d9</td>\n",
       "      <td>cef3e649</td>\n",
       "      <td>d2e497d6</td>\n",
       "      <td>4</td>\n",
       "      <td>3</td>\n",
       "      <td>21154</td>\n",
       "      <td>320</td>\n",
       "      <td>50</td>\n",
       "      <td>2420</td>\n",
       "      <td>2</td>\n",
       "      <td>35</td>\n",
       "      <td>-1</td>\n",
       "      <td>69</td>\n",
       "    </tr>\n",
       "    <tr>\n",
       "      <th>3979</th>\n",
       "      <td>0</td>\n",
       "      <td>1005</td>\n",
       "      <td>0</td>\n",
       "      <td>85f751fd</td>\n",
       "      <td>c4e18dd6</td>\n",
       "      <td>50e219e0</td>\n",
       "      <td>98fed791</td>\n",
       "      <td>d9b5648e</td>\n",
       "      <td>0f2161f8</td>\n",
       "      <td>a4b6f65b</td>\n",
       "      <td>1</td>\n",
       "      <td>0</td>\n",
       "      <td>21611</td>\n",
       "      <td>320</td>\n",
       "      <td>50</td>\n",
       "      <td>2480</td>\n",
       "      <td>3</td>\n",
       "      <td>299</td>\n",
       "      <td>100111</td>\n",
       "      <td>61</td>\n",
       "    </tr>\n",
       "    <tr>\n",
       "      <th>3454</th>\n",
       "      <td>0</td>\n",
       "      <td>1005</td>\n",
       "      <td>0</td>\n",
       "      <td>85f751fd</td>\n",
       "      <td>c4e18dd6</td>\n",
       "      <td>50e219e0</td>\n",
       "      <td>51cedd4e</td>\n",
       "      <td>aefc06bd</td>\n",
       "      <td>0f2161f8</td>\n",
       "      <td>1b8a6145</td>\n",
       "      <td>1</td>\n",
       "      <td>0</td>\n",
       "      <td>19743</td>\n",
       "      <td>320</td>\n",
       "      <td>50</td>\n",
       "      <td>2264</td>\n",
       "      <td>3</td>\n",
       "      <td>427</td>\n",
       "      <td>100000</td>\n",
       "      <td>61</td>\n",
       "    </tr>\n",
       "  </tbody>\n",
       "</table>\n",
       "</div>"
      ],
      "text/plain": [
       "      click    C1  banner_pos   site_id site_domain site_category    app_id  \\\n",
       "4063      0  1005           0  85f751fd    c4e18dd6      50e219e0  e7cf2855   \n",
       "986       1  1005           0  1fbe01fe    f3845767      28905ebd  ecad2386   \n",
       "1183      0  1010           1  85f751fd    c4e18dd6      50e219e0  19e6e972   \n",
       "3979      0  1005           0  85f751fd    c4e18dd6      50e219e0  98fed791   \n",
       "3454      0  1005           0  85f751fd    c4e18dd6      50e219e0  51cedd4e   \n",
       "\n",
       "     app_domain app_category device_model  device_type  device_conn_type  \\\n",
       "4063   ae637522     0f2161f8     c517f57b            1                 2   \n",
       "986    7801e8d9     07d7df22     1ccc7835            1                 0   \n",
       "1183   7801e8d9     cef3e649     d2e497d6            4                 3   \n",
       "3979   d9b5648e     0f2161f8     a4b6f65b            1                 0   \n",
       "3454   aefc06bd     0f2161f8     1b8a6145            1                 0   \n",
       "\n",
       "        C14  C15  C16   C17  C18  C19     C20  C21  \n",
       "4063  21234  320   50  2434    3  163  100088   61  \n",
       "986   15703  320   50  1722    0   35      -1   79  \n",
       "1183  21154  320   50  2420    2   35      -1   69  \n",
       "3979  21611  320   50  2480    3  299  100111   61  \n",
       "3454  19743  320   50  2264    3  427  100000   61  "
      ]
     },
     "execution_count": 14,
     "metadata": {},
     "output_type": "execute_result"
    }
   ],
   "source": [
    "df.head()"
   ]
  },
  {
   "cell_type": "markdown",
   "id": "15686db5",
   "metadata": {},
   "source": [
    "# Pipeline"
   ]
  },
  {
   "cell_type": "code",
   "execution_count": 15,
   "id": "d344246c",
   "metadata": {},
   "outputs": [],
   "source": [
    "\n",
    "# Which columns are numeric and which not\n",
    "num_cols = ['C1','C14','C15','C16','C17','C18','C19','C20','C21']\n",
    "cat_cols = ['banner_pos','site_id', 'site_domain', 'site_category', 'app_id', 'app_domain', 'app_category', 'device_model','device_type','device_conn_type'] "
   ]
  },
  {
   "cell_type": "code",
   "execution_count": 16,
   "id": "630391e3",
   "metadata": {},
   "outputs": [],
   "source": [
    "# Create pipe for both numerical as also categorical data\n",
    "nc_pipe = Pipeline([ ('impute', SimpleImputer(strategy = 'median')), ('ss', StandardScaler()) ])\n",
    "cat_pipe = Pipeline([('impute', SimpleImputer(strategy = 'most_frequent')), ('ohe', OneHotEncoder())])"
   ]
  },
  {
   "cell_type": "code",
   "execution_count": 17,
   "id": "5fa7f706",
   "metadata": {},
   "outputs": [
    {
     "data": {
      "text/plain": [
       "<100x177 sparse matrix of type '<class 'numpy.float64'>'\n",
       "\twith 1000 stored elements in Compressed Sparse Row format>"
      ]
     },
     "execution_count": 17,
     "metadata": {},
     "output_type": "execute_result"
    }
   ],
   "source": [
    "# Test each pipe\n",
    "nc_pipe.fit_transform(df[num_cols])\n",
    "cat_pipe.fit_transform(df[cat_cols])"
   ]
  },
  {
   "cell_type": "code",
   "execution_count": 18,
   "id": "d48ba613",
   "metadata": {},
   "outputs": [],
   "source": [
    "#fitting cat\n",
    "ct = ColumnTransformer([ ('nc', nc_pipe, num_cols), ('cp', cat_pipe,cat_cols)])"
   ]
  },
  {
   "cell_type": "code",
   "execution_count": 19,
   "id": "c9727fa1",
   "metadata": {},
   "outputs": [
    {
     "data": {
      "text/plain": [
       "<100x186 sparse matrix of type '<class 'numpy.float64'>'\n",
       "\twith 1900 stored elements in Compressed Sparse Row format>"
      ]
     },
     "execution_count": 19,
     "metadata": {},
     "output_type": "execute_result"
    }
   ],
   "source": [
    "ct.fit_transform(df)"
   ]
  },
  {
   "cell_type": "code",
   "execution_count": 20,
   "id": "e2eed12b",
   "metadata": {},
   "outputs": [],
   "source": [
    "pt = Pipeline([ ('ct', ct), ('dt', DecisionTreeClassifier())])"
   ]
  },
  {
   "cell_type": "code",
   "execution_count": 21,
   "id": "caeff6a3",
   "metadata": {},
   "outputs": [],
   "source": [
    "# Your train data\n",
    "#loss is removed\n",
    "y_train = df.pop('click')\n",
    "X_train = df"
   ]
  },
  {
   "cell_type": "code",
   "execution_count": 22,
   "id": "8529a1ed",
   "metadata": {},
   "outputs": [
    {
     "data": {
      "text/plain": [
       "Pipeline(steps=[('ct',\n",
       "                 ColumnTransformer(transformers=[('nc',\n",
       "                                                  Pipeline(steps=[('impute',\n",
       "                                                                   SimpleImputer(strategy='median')),\n",
       "                                                                  ('ss',\n",
       "                                                                   StandardScaler())]),\n",
       "                                                  ['C1', 'C14', 'C15', 'C16',\n",
       "                                                   'C17', 'C18', 'C19', 'C20',\n",
       "                                                   'C21']),\n",
       "                                                 ('cp',\n",
       "                                                  Pipeline(steps=[('impute',\n",
       "                                                                   SimpleImputer(strategy='most_frequent')),\n",
       "                                                                  ('ohe',\n",
       "                                                                   OneHotEncoder())]),\n",
       "                                                  ['banner_pos', 'site_id',\n",
       "                                                   'site_domain',\n",
       "                                                   'site_category', 'app_id',\n",
       "                                                   'app_domain', 'app_category',\n",
       "                                                   'device_model',\n",
       "                                                   'device_type',\n",
       "                                                   'device_conn_type'])])),\n",
       "                ('dt', DecisionTreeClassifier())])"
      ]
     },
     "execution_count": 22,
     "metadata": {},
     "output_type": "execute_result"
    }
   ],
   "source": [
    "# Fit final pipe on the data\n",
    "pt.fit(X_train,y_train)"
   ]
  },
  {
   "cell_type": "code",
   "execution_count": 23,
   "id": "e4662acf",
   "metadata": {},
   "outputs": [
    {
     "data": {
      "text/plain": [
       "array([0, 1, 0, 0, 0, 0, 0, 0, 0, 0, 0, 1, 0, 0, 0, 0, 0, 0, 0, 1, 0, 0,\n",
       "       0, 0, 1, 1, 0, 0, 0, 0, 1, 0, 0, 0, 0, 0, 0, 0, 0, 0, 0, 0, 1, 0,\n",
       "       0, 1, 0, 0, 1, 1, 0, 0, 0, 1, 0, 0, 0, 0, 0, 0, 0, 0, 0, 0, 0, 0,\n",
       "       0, 0, 0, 0, 1, 0, 0, 0, 0, 0, 0, 1, 0, 0, 1, 0, 0, 0, 0, 1, 0, 0,\n",
       "       0, 0, 0, 1, 0, 0, 1, 0, 0, 0, 0, 0], dtype=int64)"
      ]
     },
     "execution_count": 23,
     "metadata": {},
     "output_type": "execute_result"
    }
   ],
   "source": [
    "# Make predictions\n",
    "pt.predict(X_train)"
   ]
  },
  {
   "cell_type": "code",
   "execution_count": 24,
   "id": "76ac8f2f",
   "metadata": {},
   "outputs": [
    {
     "data": {
      "text/html": [
       "<style>div.sk-top-container {color: black;background-color: white;}div.sk-toggleable {background-color: white;}label.sk-toggleable__label {cursor: pointer;display: block;width: 100%;margin-bottom: 0;padding: 0.2em 0.3em;box-sizing: border-box;text-align: center;}div.sk-toggleable__content {max-height: 0;max-width: 0;overflow: hidden;text-align: left;background-color: #f0f8ff;}div.sk-toggleable__content pre {margin: 0.2em;color: black;border-radius: 0.25em;background-color: #f0f8ff;}input.sk-toggleable__control:checked~div.sk-toggleable__content {max-height: 200px;max-width: 100%;overflow: auto;}div.sk-estimator input.sk-toggleable__control:checked~label.sk-toggleable__label {background-color: #d4ebff;}div.sk-label input.sk-toggleable__control:checked~label.sk-toggleable__label {background-color: #d4ebff;}input.sk-hidden--visually {border: 0;clip: rect(1px 1px 1px 1px);clip: rect(1px, 1px, 1px, 1px);height: 1px;margin: -1px;overflow: hidden;padding: 0;position: absolute;width: 1px;}div.sk-estimator {font-family: monospace;background-color: #f0f8ff;margin: 0.25em 0.25em;border: 1px dotted black;border-radius: 0.25em;box-sizing: border-box;}div.sk-estimator:hover {background-color: #d4ebff;}div.sk-parallel-item::after {content: \"\";width: 100%;border-bottom: 1px solid gray;flex-grow: 1;}div.sk-label:hover label.sk-toggleable__label {background-color: #d4ebff;}div.sk-serial::before {content: \"\";position: absolute;border-left: 1px solid gray;box-sizing: border-box;top: 2em;bottom: 0;left: 50%;}div.sk-serial {display: flex;flex-direction: column;align-items: center;background-color: white;}div.sk-item {z-index: 1;}div.sk-parallel {display: flex;align-items: stretch;justify-content: center;background-color: white;}div.sk-parallel-item {display: flex;flex-direction: column;position: relative;background-color: white;}div.sk-parallel-item:first-child::after {align-self: flex-end;width: 50%;}div.sk-parallel-item:last-child::after {align-self: flex-start;width: 50%;}div.sk-parallel-item:only-child::after {width: 0;}div.sk-dashed-wrapped {border: 1px dashed gray;margin: 0.2em;box-sizing: border-box;padding-bottom: 0.1em;background-color: white;position: relative;}div.sk-label label {font-family: monospace;font-weight: bold;background-color: white;display: inline-block;line-height: 1.2em;}div.sk-label-container {position: relative;z-index: 2;text-align: center;}div.sk-container {display: inline-block;position: relative;}</style><div class=\"sk-top-container\"><div class=\"sk-container\"><div class=\"sk-item sk-dashed-wrapped\"><div class=\"sk-label-container\"><div class=\"sk-label sk-toggleable\"><input class=\"sk-toggleable__control sk-hidden--visually\" id=\"fe86f9dc-98c3-4e40-8875-d96404888ea9\" type=\"checkbox\" ><label class=\"sk-toggleable__label\" for=\"fe86f9dc-98c3-4e40-8875-d96404888ea9\">Pipeline</label><div class=\"sk-toggleable__content\"><pre>Pipeline(steps=[('ct',\n",
       "                 ColumnTransformer(transformers=[('nc',\n",
       "                                                  Pipeline(steps=[('impute',\n",
       "                                                                   SimpleImputer(strategy='median')),\n",
       "                                                                  ('ss',\n",
       "                                                                   StandardScaler())]),\n",
       "                                                  ['C1', 'C14', 'C15', 'C16',\n",
       "                                                   'C17', 'C18', 'C19', 'C20',\n",
       "                                                   'C21']),\n",
       "                                                 ('cp',\n",
       "                                                  Pipeline(steps=[('impute',\n",
       "                                                                   SimpleImputer(strategy='most_frequent')),\n",
       "                                                                  ('ohe',\n",
       "                                                                   OneHotEncoder())]),\n",
       "                                                  ['banner_pos', 'site_id',\n",
       "                                                   'site_domain',\n",
       "                                                   'site_category', 'app_id',\n",
       "                                                   'app_domain', 'app_category',\n",
       "                                                   'device_model',\n",
       "                                                   'device_type',\n",
       "                                                   'device_conn_type'])])),\n",
       "                ('dt', DecisionTreeClassifier())])</pre></div></div></div><div class=\"sk-serial\"><div class=\"sk-item sk-dashed-wrapped\"><div class=\"sk-label-container\"><div class=\"sk-label sk-toggleable\"><input class=\"sk-toggleable__control sk-hidden--visually\" id=\"c15657e2-09d6-449a-a1be-f19ff81ed322\" type=\"checkbox\" ><label class=\"sk-toggleable__label\" for=\"c15657e2-09d6-449a-a1be-f19ff81ed322\">ct: ColumnTransformer</label><div class=\"sk-toggleable__content\"><pre>ColumnTransformer(transformers=[('nc',\n",
       "                                 Pipeline(steps=[('impute',\n",
       "                                                  SimpleImputer(strategy='median')),\n",
       "                                                 ('ss', StandardScaler())]),\n",
       "                                 ['C1', 'C14', 'C15', 'C16', 'C17', 'C18',\n",
       "                                  'C19', 'C20', 'C21']),\n",
       "                                ('cp',\n",
       "                                 Pipeline(steps=[('impute',\n",
       "                                                  SimpleImputer(strategy='most_frequent')),\n",
       "                                                 ('ohe', OneHotEncoder())]),\n",
       "                                 ['banner_pos', 'site_id', 'site_domain',\n",
       "                                  'site_category', 'app_id', 'app_domain',\n",
       "                                  'app_category', 'device_model', 'device_type',\n",
       "                                  'device_conn_type'])])</pre></div></div></div><div class=\"sk-parallel\"><div class=\"sk-parallel-item\"><div class=\"sk-item\"><div class=\"sk-label-container\"><div class=\"sk-label sk-toggleable\"><input class=\"sk-toggleable__control sk-hidden--visually\" id=\"3d8fe0e7-8973-41cc-833c-a5ddc24d49b9\" type=\"checkbox\" ><label class=\"sk-toggleable__label\" for=\"3d8fe0e7-8973-41cc-833c-a5ddc24d49b9\">nc</label><div class=\"sk-toggleable__content\"><pre>['C1', 'C14', 'C15', 'C16', 'C17', 'C18', 'C19', 'C20', 'C21']</pre></div></div></div><div class=\"sk-serial\"><div class=\"sk-item\"><div class=\"sk-serial\"><div class=\"sk-item\"><div class=\"sk-estimator sk-toggleable\"><input class=\"sk-toggleable__control sk-hidden--visually\" id=\"a9f63e90-ba06-4527-8663-fef01a0bbb8a\" type=\"checkbox\" ><label class=\"sk-toggleable__label\" for=\"a9f63e90-ba06-4527-8663-fef01a0bbb8a\">SimpleImputer</label><div class=\"sk-toggleable__content\"><pre>SimpleImputer(strategy='median')</pre></div></div></div><div class=\"sk-item\"><div class=\"sk-estimator sk-toggleable\"><input class=\"sk-toggleable__control sk-hidden--visually\" id=\"40603be7-1c2d-4001-84d1-8e8b8fe3eab9\" type=\"checkbox\" ><label class=\"sk-toggleable__label\" for=\"40603be7-1c2d-4001-84d1-8e8b8fe3eab9\">StandardScaler</label><div class=\"sk-toggleable__content\"><pre>StandardScaler()</pre></div></div></div></div></div></div></div></div><div class=\"sk-parallel-item\"><div class=\"sk-item\"><div class=\"sk-label-container\"><div class=\"sk-label sk-toggleable\"><input class=\"sk-toggleable__control sk-hidden--visually\" id=\"fe0c5d50-b2b0-4494-b1c2-f9c4ef38d8c0\" type=\"checkbox\" ><label class=\"sk-toggleable__label\" for=\"fe0c5d50-b2b0-4494-b1c2-f9c4ef38d8c0\">cp</label><div class=\"sk-toggleable__content\"><pre>['banner_pos', 'site_id', 'site_domain', 'site_category', 'app_id', 'app_domain', 'app_category', 'device_model', 'device_type', 'device_conn_type']</pre></div></div></div><div class=\"sk-serial\"><div class=\"sk-item\"><div class=\"sk-serial\"><div class=\"sk-item\"><div class=\"sk-estimator sk-toggleable\"><input class=\"sk-toggleable__control sk-hidden--visually\" id=\"76e6d072-959b-4f2d-ab68-f12f2649454e\" type=\"checkbox\" ><label class=\"sk-toggleable__label\" for=\"76e6d072-959b-4f2d-ab68-f12f2649454e\">SimpleImputer</label><div class=\"sk-toggleable__content\"><pre>SimpleImputer(strategy='most_frequent')</pre></div></div></div><div class=\"sk-item\"><div class=\"sk-estimator sk-toggleable\"><input class=\"sk-toggleable__control sk-hidden--visually\" id=\"1ff34e06-77bf-46c3-a23f-1f175a50cd1d\" type=\"checkbox\" ><label class=\"sk-toggleable__label\" for=\"1ff34e06-77bf-46c3-a23f-1f175a50cd1d\">OneHotEncoder</label><div class=\"sk-toggleable__content\"><pre>OneHotEncoder()</pre></div></div></div></div></div></div></div></div></div></div><div class=\"sk-item\"><div class=\"sk-estimator sk-toggleable\"><input class=\"sk-toggleable__control sk-hidden--visually\" id=\"322d9c7a-4fc8-4cd7-8766-90a1d7d8bb92\" type=\"checkbox\" ><label class=\"sk-toggleable__label\" for=\"322d9c7a-4fc8-4cd7-8766-90a1d7d8bb92\">DecisionTreeClassifier</label><div class=\"sk-toggleable__content\"><pre>DecisionTreeClassifier()</pre></div></div></div></div></div></div></div>"
      ],
      "text/plain": [
       "Pipeline(steps=[('ct',\n",
       "                 ColumnTransformer(transformers=[('nc',\n",
       "                                                  Pipeline(steps=[('impute',\n",
       "                                                                   SimpleImputer(strategy='median')),\n",
       "                                                                  ('ss',\n",
       "                                                                   StandardScaler())]),\n",
       "                                                  ['C1', 'C14', 'C15', 'C16',\n",
       "                                                   'C17', 'C18', 'C19', 'C20',\n",
       "                                                   'C21']),\n",
       "                                                 ('cp',\n",
       "                                                  Pipeline(steps=[('impute',\n",
       "                                                                   SimpleImputer(strategy='most_frequent')),\n",
       "                                                                  ('ohe',\n",
       "                                                                   OneHotEncoder())]),\n",
       "                                                  ['banner_pos', 'site_id',\n",
       "                                                   'site_domain',\n",
       "                                                   'site_category', 'app_id',\n",
       "                                                   'app_domain', 'app_category',\n",
       "                                                   'device_model',\n",
       "                                                   'device_type',\n",
       "                                                   'device_conn_type'])])),\n",
       "                ('dt', DecisionTreeClassifier())])"
      ]
     },
     "execution_count": 24,
     "metadata": {},
     "output_type": "execute_result"
    }
   ],
   "source": [
    "set_config(display='diagram')\n",
    "pt"
   ]
  },
  {
   "cell_type": "markdown",
   "id": "a41eb45b",
   "metadata": {},
   "source": [
    "# Cross Vaidation"
   ]
  },
  {
   "cell_type": "code",
   "execution_count": 25,
   "id": "1cd0b255",
   "metadata": {},
   "outputs": [],
   "source": [
    "# Import label encoder \n",
    "from sklearn import preprocessing\n",
    "# label_encoder object knows how to understand word labels. \n",
    "label_encoder = preprocessing.LabelEncoder()"
   ]
  },
  {
   "cell_type": "code",
   "execution_count": 26,
   "id": "903d389e",
   "metadata": {},
   "outputs": [],
   "source": [
    "X=df"
   ]
  },
  {
   "cell_type": "code",
   "execution_count": 27,
   "id": "7ff7dfd5",
   "metadata": {},
   "outputs": [],
   "source": [
    "lab = ['banner_pos','site_id', 'site_domain', 'site_category', 'app_id', 'app_domain', 'app_category', 'device_model','device_type','device_conn_type']"
   ]
  },
  {
   "cell_type": "code",
   "execution_count": 28,
   "id": "2a617726",
   "metadata": {},
   "outputs": [],
   "source": [
    "X[lab]=X[lab].apply(label_encoder.fit_transform)"
   ]
  },
  {
   "cell_type": "code",
   "execution_count": 29,
   "id": "cf765f6d",
   "metadata": {},
   "outputs": [],
   "source": [
    "from sklearn.model_selection import cross_val_score\n",
    "\n"
   ]
  },
  {
   "cell_type": "code",
   "execution_count": 30,
   "id": "6375fc66",
   "metadata": {},
   "outputs": [
    {
     "name": "stdout",
     "output_type": "stream",
     "text": [
      "Requirement already satisfied: scikit_optimize in c:\\programdata\\anaconda3\\lib\\site-packages (0.9.0)\n",
      "Requirement already satisfied: scipy>=0.19.1 in c:\\programdata\\anaconda3\\lib\\site-packages (from scikit_optimize) (1.6.2)\n",
      "Requirement already satisfied: joblib>=0.11 in c:\\programdata\\anaconda3\\lib\\site-packages (from scikit_optimize) (1.0.1)\n",
      "Requirement already satisfied: scikit-learn>=0.20.0 in c:\\programdata\\anaconda3\\lib\\site-packages (from scikit_optimize) (0.24.1)\n",
      "Requirement already satisfied: numpy>=1.13.3 in c:\\programdata\\anaconda3\\lib\\site-packages (from scikit_optimize) (1.20.1)\n",
      "Requirement already satisfied: pyaml>=16.9 in c:\\programdata\\anaconda3\\lib\\site-packages (from scikit_optimize) (21.10.1)\n",
      "Requirement already satisfied: PyYAML in c:\\programdata\\anaconda3\\lib\\site-packages (from pyaml>=16.9->scikit_optimize) (5.4.1)\n",
      "Requirement already satisfied: threadpoolctl>=2.0.0 in c:\\programdata\\anaconda3\\lib\\site-packages (from scikit-learn>=0.20.0->scikit_optimize) (2.1.0)\n",
      "Note: you may need to restart the kernel to use updated packages.\n"
     ]
    }
   ],
   "source": [
    "pip install scikit_optimize"
   ]
  },
  {
   "cell_type": "code",
   "execution_count": 31,
   "id": "4971e82d",
   "metadata": {},
   "outputs": [],
   "source": [
    "from skopt import BayesSearchCV\n"
   ]
  },
  {
   "cell_type": "code",
   "execution_count": 32,
   "id": "fdedea05",
   "metadata": {},
   "outputs": [],
   "source": [
    "from skopt.space import Real, Categorical, Integer"
   ]
  },
  {
   "cell_type": "code",
   "execution_count": 33,
   "id": "d25f80e2",
   "metadata": {},
   "outputs": [],
   "source": [
    "from sklearn.model_selection import StratifiedKFold\n",
    "cvStrategy = StratifiedKFold(\n",
    "                             n_splits=3,\n",
    "                             shuffle=True,\n",
    "                             random_state=42\n",
    "                            )"
   ]
  },
  {
   "cell_type": "code",
   "execution_count": 34,
   "id": "43b73ae6",
   "metadata": {},
   "outputs": [],
   "source": [
    "from sklearn.linear_model import LogisticRegression\n",
    "from sklearn.svm import SVC\n",
    "from sklearn.neighbors import KNeighborsClassifier\n",
    "from sklearn.ensemble import RandomForestClassifier"
   ]
  },
  {
   "cell_type": "markdown",
   "id": "141b6940",
   "metadata": {},
   "source": [
    "list of models are as follows"
   ]
  },
  {
   "cell_type": "code",
   "execution_count": 35,
   "id": "7abd6fcb",
   "metadata": {},
   "outputs": [],
   "source": [
    "models = [LogisticRegression(max_iter=5), KNeighborsClassifier(), RandomForestClassifier()]"
   ]
  },
  {
   "cell_type": "code",
   "execution_count": 36,
   "id": "6493e152",
   "metadata": {},
   "outputs": [
    {
     "data": {
      "text/html": [
       "<div>\n",
       "<style scoped>\n",
       "    .dataframe tbody tr th:only-of-type {\n",
       "        vertical-align: middle;\n",
       "    }\n",
       "\n",
       "    .dataframe tbody tr th {\n",
       "        vertical-align: top;\n",
       "    }\n",
       "\n",
       "    .dataframe thead th {\n",
       "        text-align: right;\n",
       "    }\n",
       "</style>\n",
       "<table border=\"1\" class=\"dataframe\">\n",
       "  <thead>\n",
       "    <tr style=\"text-align: right;\">\n",
       "      <th></th>\n",
       "      <th>C1</th>\n",
       "      <th>banner_pos</th>\n",
       "      <th>site_id</th>\n",
       "      <th>site_domain</th>\n",
       "      <th>site_category</th>\n",
       "      <th>app_id</th>\n",
       "      <th>app_domain</th>\n",
       "      <th>app_category</th>\n",
       "      <th>device_model</th>\n",
       "      <th>device_type</th>\n",
       "      <th>device_conn_type</th>\n",
       "      <th>C14</th>\n",
       "      <th>C15</th>\n",
       "      <th>C16</th>\n",
       "      <th>C17</th>\n",
       "      <th>C18</th>\n",
       "      <th>C19</th>\n",
       "      <th>C20</th>\n",
       "      <th>C21</th>\n",
       "    </tr>\n",
       "  </thead>\n",
       "  <tbody>\n",
       "    <tr>\n",
       "      <th>4063</th>\n",
       "      <td>1005</td>\n",
       "      <td>0</td>\n",
       "      <td>15</td>\n",
       "      <td>18</td>\n",
       "      <td>2</td>\n",
       "      <td>29</td>\n",
       "      <td>4</td>\n",
       "      <td>1</td>\n",
       "      <td>55</td>\n",
       "      <td>1</td>\n",
       "      <td>1</td>\n",
       "      <td>21234</td>\n",
       "      <td>320</td>\n",
       "      <td>50</td>\n",
       "      <td>2434</td>\n",
       "      <td>3</td>\n",
       "      <td>163</td>\n",
       "      <td>100088</td>\n",
       "      <td>61</td>\n",
       "    </tr>\n",
       "    <tr>\n",
       "      <th>986</th>\n",
       "      <td>1005</td>\n",
       "      <td>0</td>\n",
       "      <td>2</td>\n",
       "      <td>22</td>\n",
       "      <td>0</td>\n",
       "      <td>30</td>\n",
       "      <td>3</td>\n",
       "      <td>0</td>\n",
       "      <td>6</td>\n",
       "      <td>1</td>\n",
       "      <td>0</td>\n",
       "      <td>15703</td>\n",
       "      <td>320</td>\n",
       "      <td>50</td>\n",
       "      <td>1722</td>\n",
       "      <td>0</td>\n",
       "      <td>35</td>\n",
       "      <td>-1</td>\n",
       "      <td>79</td>\n",
       "    </tr>\n",
       "    <tr>\n",
       "      <th>1183</th>\n",
       "      <td>1010</td>\n",
       "      <td>1</td>\n",
       "      <td>15</td>\n",
       "      <td>18</td>\n",
       "      <td>2</td>\n",
       "      <td>2</td>\n",
       "      <td>3</td>\n",
       "      <td>3</td>\n",
       "      <td>61</td>\n",
       "      <td>2</td>\n",
       "      <td>2</td>\n",
       "      <td>21154</td>\n",
       "      <td>320</td>\n",
       "      <td>50</td>\n",
       "      <td>2420</td>\n",
       "      <td>2</td>\n",
       "      <td>35</td>\n",
       "      <td>-1</td>\n",
       "      <td>69</td>\n",
       "    </tr>\n",
       "    <tr>\n",
       "      <th>3979</th>\n",
       "      <td>1005</td>\n",
       "      <td>0</td>\n",
       "      <td>15</td>\n",
       "      <td>18</td>\n",
       "      <td>2</td>\n",
       "      <td>20</td>\n",
       "      <td>6</td>\n",
       "      <td>1</td>\n",
       "      <td>43</td>\n",
       "      <td>1</td>\n",
       "      <td>0</td>\n",
       "      <td>21611</td>\n",
       "      <td>320</td>\n",
       "      <td>50</td>\n",
       "      <td>2480</td>\n",
       "      <td>3</td>\n",
       "      <td>299</td>\n",
       "      <td>100111</td>\n",
       "      <td>61</td>\n",
       "    </tr>\n",
       "    <tr>\n",
       "      <th>3454</th>\n",
       "      <td>1005</td>\n",
       "      <td>0</td>\n",
       "      <td>15</td>\n",
       "      <td>18</td>\n",
       "      <td>2</td>\n",
       "      <td>12</td>\n",
       "      <td>5</td>\n",
       "      <td>1</td>\n",
       "      <td>5</td>\n",
       "      <td>1</td>\n",
       "      <td>0</td>\n",
       "      <td>19743</td>\n",
       "      <td>320</td>\n",
       "      <td>50</td>\n",
       "      <td>2264</td>\n",
       "      <td>3</td>\n",
       "      <td>427</td>\n",
       "      <td>100000</td>\n",
       "      <td>61</td>\n",
       "    </tr>\n",
       "  </tbody>\n",
       "</table>\n",
       "</div>"
      ],
      "text/plain": [
       "        C1  banner_pos  site_id  site_domain  site_category  app_id  \\\n",
       "4063  1005           0       15           18              2      29   \n",
       "986   1005           0        2           22              0      30   \n",
       "1183  1010           1       15           18              2       2   \n",
       "3979  1005           0       15           18              2      20   \n",
       "3454  1005           0       15           18              2      12   \n",
       "\n",
       "      app_domain  app_category  device_model  device_type  device_conn_type  \\\n",
       "4063           4             1            55            1                 1   \n",
       "986            3             0             6            1                 0   \n",
       "1183           3             3            61            2                 2   \n",
       "3979           6             1            43            1                 0   \n",
       "3454           5             1             5            1                 0   \n",
       "\n",
       "        C14  C15  C16   C17  C18  C19     C20  C21  \n",
       "4063  21234  320   50  2434    3  163  100088   61  \n",
       "986   15703  320   50  1722    0   35      -1   79  \n",
       "1183  21154  320   50  2420    2   35      -1   69  \n",
       "3979  21611  320   50  2480    3  299  100111   61  \n",
       "3454  19743  320   50  2264    3  427  100000   61  "
      ]
     },
     "execution_count": 36,
     "metadata": {},
     "output_type": "execute_result"
    }
   ],
   "source": [
    "df.head()"
   ]
  },
  {
   "cell_type": "code",
   "execution_count": 37,
   "id": "9a4de610",
   "metadata": {},
   "outputs": [],
   "source": [
    "y=y_train"
   ]
  },
  {
   "cell_type": "code",
   "execution_count": 38,
   "id": "a506917a",
   "metadata": {},
   "outputs": [],
   "source": [
    "X_train, X_test, y_train, y_test = train_test_split(X,\n",
    "                                                    y,\n",
    "                                                    test_size=0.20,\n",
    "                                                    shuffle = True,\n",
    "                                                    stratify = y\n",
    "                                                    )"
   ]
  },
  {
   "cell_type": "code",
   "execution_count": 39,
   "id": "805ef969",
   "metadata": {},
   "outputs": [],
   "source": [
    "def compare_models_train_test():\n",
    "\n",
    "  for model in models:\n",
    "\n",
    "    # training the model\n",
    "    model.fit(X_train, y_train)\n",
    "    \n",
    "    # evaluating the model\n",
    "    test_data_prediction = model.predict(X_test)\n",
    "\n",
    "    accuracy = accuracy_score(y_test, test_data_prediction)\n",
    "\n",
    "    print('Accuracy score of the ', model, ' = ', accuracy)"
   ]
  },
  {
   "cell_type": "code",
   "execution_count": 40,
   "id": "48eeff1c",
   "metadata": {},
   "outputs": [
    {
     "name": "stdout",
     "output_type": "stream",
     "text": [
      "Accuracy score of the  LogisticRegression(max_iter=5)  =  0.85\n",
      "Accuracy score of the  KNeighborsClassifier()  =  0.85\n",
      "Accuracy score of the  RandomForestClassifier()  =  0.75\n"
     ]
    }
   ],
   "source": [
    "from sklearn.metrics import accuracy_score\n",
    "compare_models_train_test()"
   ]
  },
  {
   "cell_type": "code",
   "execution_count": 41,
   "id": "1273e333",
   "metadata": {},
   "outputs": [
    {
     "name": "stdout",
     "output_type": "stream",
     "text": [
      "[0.85 0.85 0.85 0.8  0.8 ]\n",
      "83.0\n"
     ]
    }
   ],
   "source": [
    "cv_score_lr = cross_val_score(LogisticRegression(max_iter=5), X, y, cv=5)\n",
    "\n",
    "print(cv_score_lr)\n",
    "\n",
    "mean_accuracy_lr = sum(cv_score_lr)/len(cv_score_lr)\n",
    "\n",
    "mean_accuracy_lr = mean_accuracy_lr*100\n",
    "\n",
    "mean_accuracy_lr = round(mean_accuracy_lr, 2)\n",
    "\n",
    "print(mean_accuracy_lr)"
   ]
  },
  {
   "cell_type": "code",
   "execution_count": 42,
   "id": "c2836e84",
   "metadata": {},
   "outputs": [],
   "source": [
    "#Likewise we have defined a function to get the average accuracy for all other models and we have taken cv as 5 for all the models."
   ]
  },
  {
   "cell_type": "code",
   "execution_count": 43,
   "id": "9c6d1d3d",
   "metadata": {},
   "outputs": [],
   "source": [
    "def compare_models_cross_validation():\n",
    "\n",
    "  for model in models:\n",
    "\n",
    "    cv_score = cross_val_score(model, X,y, cv=5)\n",
    "    \n",
    "    mean_accuracy = sum(cv_score)/len(cv_score)\n",
    "\n",
    "    mean_accuracy = mean_accuracy*100\n",
    "\n",
    "    mean_accuracy = round(mean_accuracy, 2)\n",
    "\n",
    "    print('Cross Validation accuracies for ', model, '=  ', cv_score)\n",
    "    print('Accuracy % of the ', model, mean_accuracy)\n",
    "    print('----------------------------------------------')\n"
   ]
  },
  {
   "cell_type": "markdown",
   "id": "067ae88a",
   "metadata": {},
   "source": [
    "Now comparing the accuracy of all the models without cross validation and with cross validation. Without cv RandomForestClassifier performed the best and even with cv RandomForestClassifier performed the best but the accuracy of the same decreased from 94.31% to 92.73%."
   ]
  },
  {
   "cell_type": "code",
   "execution_count": 44,
   "id": "25d3e6e0",
   "metadata": {},
   "outputs": [
    {
     "name": "stdout",
     "output_type": "stream",
     "text": [
      "Cross Validation accuracies for  LogisticRegression(max_iter=5) =   [0.85 0.85 0.85 0.8  0.8 ]\n",
      "Accuracy % of the  LogisticRegression(max_iter=5) 83.0\n",
      "----------------------------------------------\n",
      "Cross Validation accuracies for  KNeighborsClassifier() =   [0.85 0.85 0.85 0.75 0.8 ]\n",
      "Accuracy % of the  KNeighborsClassifier() 82.0\n",
      "----------------------------------------------\n",
      "Cross Validation accuracies for  RandomForestClassifier() =   [0.8  0.8  0.85 0.75 0.85]\n",
      "Accuracy % of the  RandomForestClassifier() 81.0\n",
      "----------------------------------------------\n"
     ]
    }
   ],
   "source": [
    "compare_models_cross_validation()"
   ]
  },
  {
   "cell_type": "markdown",
   "id": "e38a9b32",
   "metadata": {},
   "source": [
    "# Hyperparametric Tuning"
   ]
  },
  {
   "cell_type": "code",
   "execution_count": 45,
   "id": "7abbd67e",
   "metadata": {},
   "outputs": [],
   "source": [
    "from sklearn.svm import SVC\n",
    "from sklearn.model_selection import GridSearchCV\n",
    "from sklearn.model_selection import RandomizedSearchCV"
   ]
  },
  {
   "cell_type": "code",
   "execution_count": 46,
   "id": "f55d4e32",
   "metadata": {},
   "outputs": [],
   "source": [
    "#GridSearchCV is used for determining the best parameters for our model\n",
    "\n",
    "#Loading SVC(Super Vector Classifier) model."
   ]
  },
  {
   "cell_type": "code",
   "execution_count": 47,
   "id": "80f4c5e1",
   "metadata": {},
   "outputs": [],
   "source": [
    "model = SVC()"
   ]
  },
  {
   "cell_type": "code",
   "execution_count": 48,
   "id": "cf3d778e",
   "metadata": {},
   "outputs": [],
   "source": [
    "#Hyperparameters"
   ]
  },
  {
   "cell_type": "code",
   "execution_count": 49,
   "id": "e2379821",
   "metadata": {},
   "outputs": [],
   "source": [
    "parameters = {\n",
    "              'kernel':['linear','poly','rbf','sigmoid'],\n",
    "              'C':[1, 5, 10, 20]\n",
    "}"
   ]
  },
  {
   "cell_type": "code",
   "execution_count": 50,
   "id": "57bcbe8f",
   "metadata": {},
   "outputs": [],
   "source": [
    "# GridSearch"
   ]
  },
  {
   "cell_type": "code",
   "execution_count": 51,
   "id": "08d6d1f5",
   "metadata": {},
   "outputs": [],
   "source": [
    "classifier = GridSearchCV(model, parameters, cv=5)"
   ]
  },
  {
   "cell_type": "code",
   "execution_count": 52,
   "id": "68f59c42",
   "metadata": {},
   "outputs": [],
   "source": [
    "#Fitting data to our model."
   ]
  },
  {
   "cell_type": "code",
   "execution_count": 53,
   "id": "8f3e7bfe",
   "metadata": {},
   "outputs": [
    {
     "data": {
      "text/html": [
       "<style>div.sk-top-container {color: black;background-color: white;}div.sk-toggleable {background-color: white;}label.sk-toggleable__label {cursor: pointer;display: block;width: 100%;margin-bottom: 0;padding: 0.2em 0.3em;box-sizing: border-box;text-align: center;}div.sk-toggleable__content {max-height: 0;max-width: 0;overflow: hidden;text-align: left;background-color: #f0f8ff;}div.sk-toggleable__content pre {margin: 0.2em;color: black;border-radius: 0.25em;background-color: #f0f8ff;}input.sk-toggleable__control:checked~div.sk-toggleable__content {max-height: 200px;max-width: 100%;overflow: auto;}div.sk-estimator input.sk-toggleable__control:checked~label.sk-toggleable__label {background-color: #d4ebff;}div.sk-label input.sk-toggleable__control:checked~label.sk-toggleable__label {background-color: #d4ebff;}input.sk-hidden--visually {border: 0;clip: rect(1px 1px 1px 1px);clip: rect(1px, 1px, 1px, 1px);height: 1px;margin: -1px;overflow: hidden;padding: 0;position: absolute;width: 1px;}div.sk-estimator {font-family: monospace;background-color: #f0f8ff;margin: 0.25em 0.25em;border: 1px dotted black;border-radius: 0.25em;box-sizing: border-box;}div.sk-estimator:hover {background-color: #d4ebff;}div.sk-parallel-item::after {content: \"\";width: 100%;border-bottom: 1px solid gray;flex-grow: 1;}div.sk-label:hover label.sk-toggleable__label {background-color: #d4ebff;}div.sk-serial::before {content: \"\";position: absolute;border-left: 1px solid gray;box-sizing: border-box;top: 2em;bottom: 0;left: 50%;}div.sk-serial {display: flex;flex-direction: column;align-items: center;background-color: white;}div.sk-item {z-index: 1;}div.sk-parallel {display: flex;align-items: stretch;justify-content: center;background-color: white;}div.sk-parallel-item {display: flex;flex-direction: column;position: relative;background-color: white;}div.sk-parallel-item:first-child::after {align-self: flex-end;width: 50%;}div.sk-parallel-item:last-child::after {align-self: flex-start;width: 50%;}div.sk-parallel-item:only-child::after {width: 0;}div.sk-dashed-wrapped {border: 1px dashed gray;margin: 0.2em;box-sizing: border-box;padding-bottom: 0.1em;background-color: white;position: relative;}div.sk-label label {font-family: monospace;font-weight: bold;background-color: white;display: inline-block;line-height: 1.2em;}div.sk-label-container {position: relative;z-index: 2;text-align: center;}div.sk-container {display: inline-block;position: relative;}</style><div class=\"sk-top-container\"><div class=\"sk-container\"><div class=\"sk-item sk-dashed-wrapped\"><div class=\"sk-label-container\"><div class=\"sk-label sk-toggleable\"><input class=\"sk-toggleable__control sk-hidden--visually\" id=\"db6d838f-76f5-4c5f-8618-cef6eaab236b\" type=\"checkbox\" ><label class=\"sk-toggleable__label\" for=\"db6d838f-76f5-4c5f-8618-cef6eaab236b\">GridSearchCV</label><div class=\"sk-toggleable__content\"><pre>GridSearchCV(cv=5, estimator=SVC(),\n",
       "             param_grid={'C': [1, 5, 10, 20],\n",
       "                         'kernel': ['linear', 'poly', 'rbf', 'sigmoid']})</pre></div></div></div><div class=\"sk-parallel\"><div class=\"sk-parallel-item\"><div class=\"sk-item\"><div class=\"sk-serial\"><div class=\"sk-item\"><div class=\"sk-estimator sk-toggleable\"><input class=\"sk-toggleable__control sk-hidden--visually\" id=\"9e2d0497-3d14-4ac4-9c22-23c70b803f63\" type=\"checkbox\" ><label class=\"sk-toggleable__label\" for=\"9e2d0497-3d14-4ac4-9c22-23c70b803f63\">SVC</label><div class=\"sk-toggleable__content\"><pre>SVC()</pre></div></div></div></div></div></div></div></div></div></div>"
      ],
      "text/plain": [
       "GridSearchCV(cv=5, estimator=SVC(),\n",
       "             param_grid={'C': [1, 5, 10, 20],\n",
       "                         'kernel': ['linear', 'poly', 'rbf', 'sigmoid']})"
      ]
     },
     "execution_count": 53,
     "metadata": {},
     "output_type": "execute_result"
    }
   ],
   "source": [
    "classifier.fit(X, y)"
   ]
  },
  {
   "cell_type": "code",
   "execution_count": 54,
   "id": "9a642a91",
   "metadata": {},
   "outputs": [
    {
     "data": {
      "text/plain": [
       "{'mean_fit_time': array([2.87268300e+00, 5.98044395e-03, 6.78119659e-03, 4.59151268e-03,\n",
       "        3.60682225e+00, 3.39307785e-03, 3.19857597e-03, 2.99901962e-03,\n",
       "        3.27274928e+00, 3.59611511e-03, 3.37781906e-03, 3.78823280e-03,\n",
       "        4.19273224e+00, 3.99537086e-03, 4.18891907e-03, 3.79295349e-03]),\n",
       " 'std_fit_time': array([2.11801684e+00, 1.25261770e-03, 4.61004121e-03, 4.90045095e-04,\n",
       "        1.83559662e+00, 4.90158693e-04, 3.94919931e-04, 1.52628118e-05,\n",
       "        2.13217064e+00, 4.93435999e-04, 4.86031267e-04, 9.89109042e-04,\n",
       "        3.63440243e+00, 6.38369446e-04, 3.99519219e-04, 4.00893234e-04]),\n",
       " 'mean_score_time': array([0.00546818, 0.00417786, 0.00419569, 0.00299129, 0.00298405,\n",
       "        0.00219235, 0.00259166, 0.00239463, 0.0033916 , 0.00298495,\n",
       "        0.00220895, 0.00280008, 0.00199051, 0.00259199, 0.00279946,\n",
       "        0.0021874 ]),\n",
       " 'std_score_time': array([1.24835014e-03, 1.15980973e-03, 1.47593269e-03, 1.36425436e-05,\n",
       "        6.31400102e-04, 3.99190930e-04, 4.86908189e-04, 4.88465673e-04,\n",
       "        2.32941102e-03, 6.31268997e-04, 4.08708697e-04, 1.16344616e-03,\n",
       "        1.40771181e-05, 4.88943567e-04, 3.86544518e-04, 4.05191140e-04]),\n",
       " 'param_C': masked_array(data=[1, 1, 1, 1, 5, 5, 5, 5, 10, 10, 10, 10, 20, 20, 20, 20],\n",
       "              mask=[False, False, False, False, False, False, False, False,\n",
       "                    False, False, False, False, False, False, False, False],\n",
       "        fill_value='?',\n",
       "             dtype=object),\n",
       " 'param_kernel': masked_array(data=['linear', 'poly', 'rbf', 'sigmoid', 'linear', 'poly',\n",
       "                    'rbf', 'sigmoid', 'linear', 'poly', 'rbf', 'sigmoid',\n",
       "                    'linear', 'poly', 'rbf', 'sigmoid'],\n",
       "              mask=[False, False, False, False, False, False, False, False,\n",
       "                    False, False, False, False, False, False, False, False],\n",
       "        fill_value='?',\n",
       "             dtype=object),\n",
       " 'params': [{'C': 1, 'kernel': 'linear'},\n",
       "  {'C': 1, 'kernel': 'poly'},\n",
       "  {'C': 1, 'kernel': 'rbf'},\n",
       "  {'C': 1, 'kernel': 'sigmoid'},\n",
       "  {'C': 5, 'kernel': 'linear'},\n",
       "  {'C': 5, 'kernel': 'poly'},\n",
       "  {'C': 5, 'kernel': 'rbf'},\n",
       "  {'C': 5, 'kernel': 'sigmoid'},\n",
       "  {'C': 10, 'kernel': 'linear'},\n",
       "  {'C': 10, 'kernel': 'poly'},\n",
       "  {'C': 10, 'kernel': 'rbf'},\n",
       "  {'C': 10, 'kernel': 'sigmoid'},\n",
       "  {'C': 20, 'kernel': 'linear'},\n",
       "  {'C': 20, 'kernel': 'poly'},\n",
       "  {'C': 20, 'kernel': 'rbf'},\n",
       "  {'C': 20, 'kernel': 'sigmoid'}],\n",
       " 'split0_test_score': array([0.75, 0.85, 0.85, 0.85, 0.8 , 0.85, 0.85, 0.85, 0.75, 0.85, 0.85,\n",
       "        0.85, 0.7 , 0.85, 0.85, 0.85]),\n",
       " 'split1_test_score': array([0.75, 0.85, 0.85, 0.85, 0.75, 0.85, 0.85, 0.85, 0.75, 0.85, 0.85,\n",
       "        0.85, 0.75, 0.85, 0.85, 0.85]),\n",
       " 'split2_test_score': array([0.85, 0.85, 0.85, 0.85, 0.85, 0.85, 0.85, 0.85, 0.85, 0.85, 0.85,\n",
       "        0.85, 0.85, 0.85, 0.85, 0.85]),\n",
       " 'split3_test_score': array([0.8 , 0.8 , 0.8 , 0.8 , 0.75, 0.8 , 0.8 , 0.8 , 0.85, 0.8 , 0.8 ,\n",
       "        0.8 , 0.8 , 0.8 , 0.8 , 0.8 ]),\n",
       " 'split4_test_score': array([0.65, 0.8 , 0.8 , 0.8 , 0.75, 0.8 , 0.8 , 0.8 , 0.65, 0.8 , 0.8 ,\n",
       "        0.8 , 0.65, 0.8 , 0.8 , 0.8 ]),\n",
       " 'mean_test_score': array([0.76, 0.83, 0.83, 0.83, 0.78, 0.83, 0.83, 0.83, 0.77, 0.83, 0.83,\n",
       "        0.83, 0.75, 0.83, 0.83, 0.83]),\n",
       " 'std_test_score': array([0.0663325 , 0.0244949 , 0.0244949 , 0.0244949 , 0.04      ,\n",
       "        0.0244949 , 0.0244949 , 0.0244949 , 0.07483315, 0.0244949 ,\n",
       "        0.0244949 , 0.0244949 , 0.07071068, 0.0244949 , 0.0244949 ,\n",
       "        0.0244949 ]),\n",
       " 'rank_test_score': array([15,  1,  1,  1, 13,  1,  1,  1, 14,  1,  1,  1, 16,  1,  1,  1])}"
      ]
     },
     "execution_count": 54,
     "metadata": {},
     "output_type": "execute_result"
    }
   ],
   "source": [
    "classifier.cv_results_"
   ]
  },
  {
   "cell_type": "code",
   "execution_count": 55,
   "id": "79356d61",
   "metadata": {},
   "outputs": [],
   "source": [
    "#Looking for the parameters that performed the best."
   ]
  },
  {
   "cell_type": "code",
   "execution_count": 56,
   "id": "6e0df263",
   "metadata": {},
   "outputs": [
    {
     "name": "stdout",
     "output_type": "stream",
     "text": [
      "{'C': 1, 'kernel': 'poly'}\n"
     ]
    }
   ],
   "source": [
    "best_parameters = classifier.best_params_\n",
    "print(best_parameters)"
   ]
  },
  {
   "cell_type": "code",
   "execution_count": 57,
   "id": "95642c86",
   "metadata": {},
   "outputs": [],
   "source": [
    "#Checking the highest accuracy that we got from the best parameters in GridSearchCV.."
   ]
  },
  {
   "cell_type": "code",
   "execution_count": 58,
   "id": "73b68cea",
   "metadata": {},
   "outputs": [
    {
     "name": "stdout",
     "output_type": "stream",
     "text": [
      "0.8299999999999998\n"
     ]
    }
   ],
   "source": [
    "highest_accuracy = classifier.best_score_\n",
    "print(highest_accuracy)"
   ]
  },
  {
   "cell_type": "code",
   "execution_count": 59,
   "id": "e4d44d48",
   "metadata": {},
   "outputs": [],
   "source": [
    "model = SVC()"
   ]
  },
  {
   "cell_type": "code",
   "execution_count": 60,
   "id": "2cd753c6",
   "metadata": {},
   "outputs": [],
   "source": [
    "parameters = {\n",
    "              'kernel':['linear','poly','rbf','sigmoid'],\n",
    "              'C':[1, 5, 10, 20]\n",
    "}"
   ]
  },
  {
   "cell_type": "code",
   "execution_count": 61,
   "id": "9e82dcb2",
   "metadata": {},
   "outputs": [],
   "source": [
    "classifier = RandomizedSearchCV(model, parameters, cv=5)"
   ]
  },
  {
   "cell_type": "code",
   "execution_count": 62,
   "id": "2905cac1",
   "metadata": {},
   "outputs": [
    {
     "data": {
      "text/html": [
       "<style>div.sk-top-container {color: black;background-color: white;}div.sk-toggleable {background-color: white;}label.sk-toggleable__label {cursor: pointer;display: block;width: 100%;margin-bottom: 0;padding: 0.2em 0.3em;box-sizing: border-box;text-align: center;}div.sk-toggleable__content {max-height: 0;max-width: 0;overflow: hidden;text-align: left;background-color: #f0f8ff;}div.sk-toggleable__content pre {margin: 0.2em;color: black;border-radius: 0.25em;background-color: #f0f8ff;}input.sk-toggleable__control:checked~div.sk-toggleable__content {max-height: 200px;max-width: 100%;overflow: auto;}div.sk-estimator input.sk-toggleable__control:checked~label.sk-toggleable__label {background-color: #d4ebff;}div.sk-label input.sk-toggleable__control:checked~label.sk-toggleable__label {background-color: #d4ebff;}input.sk-hidden--visually {border: 0;clip: rect(1px 1px 1px 1px);clip: rect(1px, 1px, 1px, 1px);height: 1px;margin: -1px;overflow: hidden;padding: 0;position: absolute;width: 1px;}div.sk-estimator {font-family: monospace;background-color: #f0f8ff;margin: 0.25em 0.25em;border: 1px dotted black;border-radius: 0.25em;box-sizing: border-box;}div.sk-estimator:hover {background-color: #d4ebff;}div.sk-parallel-item::after {content: \"\";width: 100%;border-bottom: 1px solid gray;flex-grow: 1;}div.sk-label:hover label.sk-toggleable__label {background-color: #d4ebff;}div.sk-serial::before {content: \"\";position: absolute;border-left: 1px solid gray;box-sizing: border-box;top: 2em;bottom: 0;left: 50%;}div.sk-serial {display: flex;flex-direction: column;align-items: center;background-color: white;}div.sk-item {z-index: 1;}div.sk-parallel {display: flex;align-items: stretch;justify-content: center;background-color: white;}div.sk-parallel-item {display: flex;flex-direction: column;position: relative;background-color: white;}div.sk-parallel-item:first-child::after {align-self: flex-end;width: 50%;}div.sk-parallel-item:last-child::after {align-self: flex-start;width: 50%;}div.sk-parallel-item:only-child::after {width: 0;}div.sk-dashed-wrapped {border: 1px dashed gray;margin: 0.2em;box-sizing: border-box;padding-bottom: 0.1em;background-color: white;position: relative;}div.sk-label label {font-family: monospace;font-weight: bold;background-color: white;display: inline-block;line-height: 1.2em;}div.sk-label-container {position: relative;z-index: 2;text-align: center;}div.sk-container {display: inline-block;position: relative;}</style><div class=\"sk-top-container\"><div class=\"sk-container\"><div class=\"sk-item sk-dashed-wrapped\"><div class=\"sk-label-container\"><div class=\"sk-label sk-toggleable\"><input class=\"sk-toggleable__control sk-hidden--visually\" id=\"468cac83-112e-4620-af26-20173c14d9a4\" type=\"checkbox\" ><label class=\"sk-toggleable__label\" for=\"468cac83-112e-4620-af26-20173c14d9a4\">RandomizedSearchCV</label><div class=\"sk-toggleable__content\"><pre>RandomizedSearchCV(cv=5, estimator=SVC(),\n",
       "                   param_distributions={'C': [1, 5, 10, 20],\n",
       "                                        'kernel': ['linear', 'poly', 'rbf',\n",
       "                                                   'sigmoid']})</pre></div></div></div><div class=\"sk-parallel\"><div class=\"sk-parallel-item\"><div class=\"sk-item\"><div class=\"sk-serial\"><div class=\"sk-item\"><div class=\"sk-estimator sk-toggleable\"><input class=\"sk-toggleable__control sk-hidden--visually\" id=\"5e1bc3b6-25f6-4f9d-83fd-bcca880ad2bd\" type=\"checkbox\" ><label class=\"sk-toggleable__label\" for=\"5e1bc3b6-25f6-4f9d-83fd-bcca880ad2bd\">SVC</label><div class=\"sk-toggleable__content\"><pre>SVC()</pre></div></div></div></div></div></div></div></div></div></div>"
      ],
      "text/plain": [
       "RandomizedSearchCV(cv=5, estimator=SVC(),\n",
       "                   param_distributions={'C': [1, 5, 10, 20],\n",
       "                                        'kernel': ['linear', 'poly', 'rbf',\n",
       "                                                   'sigmoid']})"
      ]
     },
     "execution_count": 62,
     "metadata": {},
     "output_type": "execute_result"
    }
   ],
   "source": [
    "classifier.fit(X, y)"
   ]
  },
  {
   "cell_type": "code",
   "execution_count": 63,
   "id": "4625f5a8",
   "metadata": {},
   "outputs": [
    {
     "data": {
      "text/plain": [
       "{'mean_fit_time': array([1.05710983e-02, 2.08014331e+00, 3.80835533e-03, 2.82449155e+00,\n",
       "        3.18255424e-03, 3.59349251e-03, 3.20067406e-03, 4.18486595e-03,\n",
       "        3.99116774e+00, 4.20236588e-03]),\n",
       " 'std_fit_time': array([3.86732626e-03, 1.31143751e+00, 4.10857727e-04, 1.78630359e+00,\n",
       "        4.03311467e-04, 4.73209107e-04, 3.93757868e-04, 1.15509390e-03,\n",
       "        3.64330842e+00, 1.47413027e-03]),\n",
       " 'mean_score_time': array([0.00718002, 0.0039927 , 0.00197663, 0.00319195, 0.00219941,\n",
       "        0.00219412, 0.00198298, 0.0025888 , 0.00260153, 0.00278249]),\n",
       " 'std_score_time': array([2.84943122e-03, 1.66816764e-03, 1.61271092e-05, 9.78013389e-04,\n",
       "        3.98803777e-04, 4.00117847e-04, 1.38974924e-05, 4.87834765e-04,\n",
       "        4.93796744e-04, 7.49697213e-04]),\n",
       " 'param_kernel': masked_array(data=['rbf', 'linear', 'poly', 'linear', 'sigmoid',\n",
       "                    'sigmoid', 'rbf', 'rbf', 'linear', 'poly'],\n",
       "              mask=[False, False, False, False, False, False, False, False,\n",
       "                    False, False],\n",
       "        fill_value='?',\n",
       "             dtype=object),\n",
       " 'param_C': masked_array(data=[1, 1, 5, 10, 20, 5, 5, 10, 20, 20],\n",
       "              mask=[False, False, False, False, False, False, False, False,\n",
       "                    False, False],\n",
       "        fill_value='?',\n",
       "             dtype=object),\n",
       " 'params': [{'kernel': 'rbf', 'C': 1},\n",
       "  {'kernel': 'linear', 'C': 1},\n",
       "  {'kernel': 'poly', 'C': 5},\n",
       "  {'kernel': 'linear', 'C': 10},\n",
       "  {'kernel': 'sigmoid', 'C': 20},\n",
       "  {'kernel': 'sigmoid', 'C': 5},\n",
       "  {'kernel': 'rbf', 'C': 5},\n",
       "  {'kernel': 'rbf', 'C': 10},\n",
       "  {'kernel': 'linear', 'C': 20},\n",
       "  {'kernel': 'poly', 'C': 20}],\n",
       " 'split0_test_score': array([0.85, 0.75, 0.85, 0.75, 0.85, 0.85, 0.85, 0.85, 0.7 , 0.85]),\n",
       " 'split1_test_score': array([0.85, 0.75, 0.85, 0.75, 0.85, 0.85, 0.85, 0.85, 0.75, 0.85]),\n",
       " 'split2_test_score': array([0.85, 0.85, 0.85, 0.85, 0.85, 0.85, 0.85, 0.85, 0.85, 0.85]),\n",
       " 'split3_test_score': array([0.8 , 0.8 , 0.8 , 0.85, 0.8 , 0.8 , 0.8 , 0.8 , 0.8 , 0.8 ]),\n",
       " 'split4_test_score': array([0.8 , 0.65, 0.8 , 0.65, 0.8 , 0.8 , 0.8 , 0.8 , 0.65, 0.8 ]),\n",
       " 'mean_test_score': array([0.83, 0.76, 0.83, 0.77, 0.83, 0.83, 0.83, 0.83, 0.75, 0.83]),\n",
       " 'std_test_score': array([0.0244949 , 0.0663325 , 0.0244949 , 0.07483315, 0.0244949 ,\n",
       "        0.0244949 , 0.0244949 , 0.0244949 , 0.07071068, 0.0244949 ]),\n",
       " 'rank_test_score': array([ 1,  9,  1,  8,  1,  1,  1,  1, 10,  1])}"
      ]
     },
     "execution_count": 63,
     "metadata": {},
     "output_type": "execute_result"
    }
   ],
   "source": [
    "classifier.cv_results_"
   ]
  },
  {
   "cell_type": "code",
   "execution_count": 64,
   "id": "46fd8336",
   "metadata": {},
   "outputs": [
    {
     "name": "stdout",
     "output_type": "stream",
     "text": [
      "{'kernel': 'rbf', 'C': 1}\n"
     ]
    }
   ],
   "source": [
    "best_parameters = classifier.best_params_\n",
    "print(best_parameters)"
   ]
  },
  {
   "cell_type": "code",
   "execution_count": 65,
   "id": "258dd6e7",
   "metadata": {},
   "outputs": [
    {
     "name": "stdout",
     "output_type": "stream",
     "text": [
      "0.8299999999999998\n"
     ]
    }
   ],
   "source": [
    "highest_accuracy = classifier.best_score_\n",
    "print(highest_accuracy)"
   ]
  },
  {
   "cell_type": "code",
   "execution_count": null,
   "id": "8589980f",
   "metadata": {},
   "outputs": [],
   "source": []
  }
 ],
 "metadata": {
  "kernelspec": {
   "display_name": "Python 3",
   "language": "python",
   "name": "python3"
  },
  "language_info": {
   "codemirror_mode": {
    "name": "ipython",
    "version": 3
   },
   "file_extension": ".py",
   "mimetype": "text/x-python",
   "name": "python",
   "nbconvert_exporter": "python",
   "pygments_lexer": "ipython3",
   "version": "3.8.8"
  }
 },
 "nbformat": 4,
 "nbformat_minor": 5
}
